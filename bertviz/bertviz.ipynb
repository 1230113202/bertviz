{
 "cells": [
  {
   "cell_type": "code",
   "execution_count": 4,
   "metadata": {
    "collapsed": true
   },
   "outputs": [],
   "source": [
    "from bertviz import attention, visualization\n",
    "import numpy as np\n",
    "from pytorch_pretrained_bert import BertModel, BertTokenizer, BertConfig"
   ]
  },
  {
   "cell_type": "code",
   "execution_count": null,
   "metadata": {},
   "outputs": [],
   "source": [
    "\n",
    "%%javascript\n",
    "require.config({\n",
    "  paths: {\n",
    "      d3: '//cdnjs.cloudflare.com/ajax/libs/d3/3.4.8/d3.min'\n",
    "  }\n",
    "});\n"
   ]
  },
  {
   "cell_type": "code",
   "execution_count": null,
   "metadata": {},
   "outputs": [],
   "source": [
    "# config = BertConfig.from_json_file('tests/fixtures/config.json')\n",
    "# model = BertModel(config)\n",
    "# tokenizer = BertTokenizer('tests/fixtures/vocab.txt')\n",
    "# attention_visualizer = visualization.AttentionVisualizer(model, tokenizer)\n",
    "# sentence1 = 'The quickest brown fox'\n",
    "# sentence2 = \"the quick brown fox jumped over the laziest lazy elmo\"\n",
    "# tokens_a, tokens_b, attn = attention_visualizer.get_viz_data(sentence1, sentence2)\n",
    "# attention.show(tokens_a, tokens_b, attn)"
   ]
  },
  {
   "cell_type": "code",
   "execution_count": null,
   "metadata": {},
   "outputs": [],
   "source": [
    "bert_version = 'bert-base-uncased'\n",
    "model = BertModel.from_pretrained(bert_version)\n",
    "tokenizer = BertTokenizer.from_pretrained(bert_version)\n",
    "# sentence_a = 'The quickest brown fox jumped over the lazy dog'\n",
    "# sentence_b = \"the quick brown fox jumped over the laziest lazy elmo\"\n",
    "sentence_a = \"I went to the store.\"\n",
    "sentence_b = \"At the store, I bought fresh strawberries.\"\n",
    "attention_visualizer = visualization.AttentionVisualizer(model, tokenizer)\n",
    "tokens_a, tokens_b, attn = attention_visualizer.get_viz_data(sentence_a, sentence_b)\n",
    "attention.show(tokens_a, tokens_b, attn)"
   ]
  },
  {
   "cell_type": "code",
   "execution_count": null,
   "metadata": {},
   "outputs": [],
   "source": []
  }
 ],
 "metadata": {},
 "nbformat": 4,
 "nbformat_minor": 0
}
